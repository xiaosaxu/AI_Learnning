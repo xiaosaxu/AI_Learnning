{
 "cells": [
  {
   "cell_type": "markdown",
   "metadata": {},
   "source": [
    "### iris test"
   ]
  },
  {
   "cell_type": "code",
   "execution_count": 44,
   "metadata": {
    "collapsed": true
   },
   "outputs": [],
   "source": [
    "from sklearn import neighbors ,datasets,preprocessing \n",
    "from sklearn.model_selection import train_test_split\n",
    "from sklearn.metrics import accuracy_score"
   ]
  },
  {
   "cell_type": "code",
   "execution_count": 29,
   "metadata": {
    "collapsed": false
   },
   "outputs": [],
   "source": [
    "iris = datasets.load_iris()"
   ]
  },
  {
   "cell_type": "code",
   "execution_count": 30,
   "metadata": {
    "collapsed": true
   },
   "outputs": [
    {
     "name": "stdout",
     "output_type": "stream",
     "text": [
      "{'data': array([[ 5.1,  3.5,  1.4,  0.2],\n",
      "       [ 4.9,  3. ,  1.4,  0.2],\n",
      "       [ 4.7,  3.2,  1.3,  0.2],\n",
      "       [ 4.6,  3.1,  1.5,  0.2],\n",
      "       [ 5. ,  3.6,  1.4,  0.2],\n",
      "       [ 5.4,  3.9,  1.7,  0.4],\n",
      "       [ 4.6,  3.4,  1.4,  0.3],\n",
      "       [ 5. ,  3.4,  1.5,  0.2],\n",
      "       [ 4.4,  2.9,  1.4,  0.2],\n",
      "       [ 4.9,  3.1,  1.5,  0.1],\n",
      "       [ 5.4,  3.7,  1.5,  0.2],\n",
      "       [ 4.8,  3.4,  1.6,  0.2],\n",
      "       [ 4.8,  3. ,  1.4,  0.1],\n",
      "       [ 4.3,  3. ,  1.1,  0.1],\n",
      "       [ 5.8,  4. ,  1.2,  0.2],\n",
      "       [ 5.7,  4.4,  1.5,  0.4],\n",
      "       [ 5.4,  3.9,  1.3,  0.4],\n",
      "       [ 5.1,  3.5,  1.4,  0.3],\n",
      "       [ 5.7,  3.8,  1.7,  0.3],\n",
      "       [ 5.1,  3.8,  1.5,  0.3],\n",
      "       [ 5.4,  3.4,  1.7,  0.2],\n",
      "       [ 5.1,  3.7,  1.5,  0.4],\n",
      "       [ 4.6,  3.6,  1. ,  0.2],\n",
      "       [ 5.1,  3.3,  1.7,  0.5],\n",
      "       [ 4.8,  3.4,  1.9,  0.2],\n",
      "       [ 5. ,  3. ,  1.6,  0.2],\n",
      "       [ 5. ,  3.4,  1.6,  0.4],\n",
      "       [ 5.2,  3.5,  1.5,  0.2],\n",
      "       [ 5.2,  3.4,  1.4,  0.2],\n",
      "       [ 4.7,  3.2,  1.6,  0.2],\n",
      "       [ 4.8,  3.1,  1.6,  0.2],\n",
      "       [ 5.4,  3.4,  1.5,  0.4],\n",
      "       [ 5.2,  4.1,  1.5,  0.1],\n",
      "       [ 5.5,  4.2,  1.4,  0.2],\n",
      "       [ 4.9,  3.1,  1.5,  0.1],\n",
      "       [ 5. ,  3.2,  1.2,  0.2],\n",
      "       [ 5.5,  3.5,  1.3,  0.2],\n",
      "       [ 4.9,  3.1,  1.5,  0.1],\n",
      "       [ 4.4,  3. ,  1.3,  0.2],\n",
      "       [ 5.1,  3.4,  1.5,  0.2],\n",
      "       [ 5. ,  3.5,  1.3,  0.3],\n",
      "       [ 4.5,  2.3,  1.3,  0.3],\n",
      "       [ 4.4,  3.2,  1.3,  0.2],\n",
      "       [ 5. ,  3.5,  1.6,  0.6],\n",
      "       [ 5.1,  3.8,  1.9,  0.4],\n",
      "       [ 4.8,  3. ,  1.4,  0.3],\n",
      "       [ 5.1,  3.8,  1.6,  0.2],\n",
      "       [ 4.6,  3.2,  1.4,  0.2],\n",
      "       [ 5.3,  3.7,  1.5,  0.2],\n",
      "       [ 5. ,  3.3,  1.4,  0.2],\n",
      "       [ 7. ,  3.2,  4.7,  1.4],\n",
      "       [ 6.4,  3.2,  4.5,  1.5],\n",
      "       [ 6.9,  3.1,  4.9,  1.5],\n",
      "       [ 5.5,  2.3,  4. ,  1.3],\n",
      "       [ 6.5,  2.8,  4.6,  1.5],\n",
      "       [ 5.7,  2.8,  4.5,  1.3],\n",
      "       [ 6.3,  3.3,  4.7,  1.6],\n",
      "       [ 4.9,  2.4,  3.3,  1. ],\n",
      "       [ 6.6,  2.9,  4.6,  1.3],\n",
      "       [ 5.2,  2.7,  3.9,  1.4],\n",
      "       [ 5. ,  2. ,  3.5,  1. ],\n",
      "       [ 5.9,  3. ,  4.2,  1.5],\n",
      "       [ 6. ,  2.2,  4. ,  1. ],\n",
      "       [ 6.1,  2.9,  4.7,  1.4],\n",
      "       [ 5.6,  2.9,  3.6,  1.3],\n",
      "       [ 6.7,  3.1,  4.4,  1.4],\n",
      "       [ 5.6,  3. ,  4.5,  1.5],\n",
      "       [ 5.8,  2.7,  4.1,  1. ],\n",
      "       [ 6.2,  2.2,  4.5,  1.5],\n",
      "       [ 5.6,  2.5,  3.9,  1.1],\n",
      "       [ 5.9,  3.2,  4.8,  1.8],\n",
      "       [ 6.1,  2.8,  4. ,  1.3],\n",
      "       [ 6.3,  2.5,  4.9,  1.5],\n",
      "       [ 6.1,  2.8,  4.7,  1.2],\n",
      "       [ 6.4,  2.9,  4.3,  1.3],\n",
      "       [ 6.6,  3. ,  4.4,  1.4],\n",
      "       [ 6.8,  2.8,  4.8,  1.4],\n",
      "       [ 6.7,  3. ,  5. ,  1.7],\n",
      "       [ 6. ,  2.9,  4.5,  1.5],\n",
      "       [ 5.7,  2.6,  3.5,  1. ],\n",
      "       [ 5.5,  2.4,  3.8,  1.1],\n",
      "       [ 5.5,  2.4,  3.7,  1. ],\n",
      "       [ 5.8,  2.7,  3.9,  1.2],\n",
      "       [ 6. ,  2.7,  5.1,  1.6],\n",
      "       [ 5.4,  3. ,  4.5,  1.5],\n",
      "       [ 6. ,  3.4,  4.5,  1.6],\n",
      "       [ 6.7,  3.1,  4.7,  1.5],\n",
      "       [ 6.3,  2.3,  4.4,  1.3],\n",
      "       [ 5.6,  3. ,  4.1,  1.3],\n",
      "       [ 5.5,  2.5,  4. ,  1.3],\n",
      "       [ 5.5,  2.6,  4.4,  1.2],\n",
      "       [ 6.1,  3. ,  4.6,  1.4],\n",
      "       [ 5.8,  2.6,  4. ,  1.2],\n",
      "       [ 5. ,  2.3,  3.3,  1. ],\n",
      "       [ 5.6,  2.7,  4.2,  1.3],\n",
      "       [ 5.7,  3. ,  4.2,  1.2],\n",
      "       [ 5.7,  2.9,  4.2,  1.3],\n",
      "       [ 6.2,  2.9,  4.3,  1.3],\n",
      "       [ 5.1,  2.5,  3. ,  1.1],\n",
      "       [ 5.7,  2.8,  4.1,  1.3],\n",
      "       [ 6.3,  3.3,  6. ,  2.5],\n",
      "       [ 5.8,  2.7,  5.1,  1.9],\n",
      "       [ 7.1,  3. ,  5.9,  2.1],\n",
      "       [ 6.3,  2.9,  5.6,  1.8],\n",
      "       [ 6.5,  3. ,  5.8,  2.2],\n",
      "       [ 7.6,  3. ,  6.6,  2.1],\n",
      "       [ 4.9,  2.5,  4.5,  1.7],\n",
      "       [ 7.3,  2.9,  6.3,  1.8],\n",
      "       [ 6.7,  2.5,  5.8,  1.8],\n",
      "       [ 7.2,  3.6,  6.1,  2.5],\n",
      "       [ 6.5,  3.2,  5.1,  2. ],\n",
      "       [ 6.4,  2.7,  5.3,  1.9],\n",
      "       [ 6.8,  3. ,  5.5,  2.1],\n",
      "       [ 5.7,  2.5,  5. ,  2. ],\n",
      "       [ 5.8,  2.8,  5.1,  2.4],\n",
      "       [ 6.4,  3.2,  5.3,  2.3],\n",
      "       [ 6.5,  3. ,  5.5,  1.8],\n",
      "       [ 7.7,  3.8,  6.7,  2.2],\n",
      "       [ 7.7,  2.6,  6.9,  2.3],\n",
      "       [ 6. ,  2.2,  5. ,  1.5],\n",
      "       [ 6.9,  3.2,  5.7,  2.3],\n",
      "       [ 5.6,  2.8,  4.9,  2. ],\n",
      "       [ 7.7,  2.8,  6.7,  2. ],\n",
      "       [ 6.3,  2.7,  4.9,  1.8],\n",
      "       [ 6.7,  3.3,  5.7,  2.1],\n",
      "       [ 7.2,  3.2,  6. ,  1.8],\n",
      "       [ 6.2,  2.8,  4.8,  1.8],\n",
      "       [ 6.1,  3. ,  4.9,  1.8],\n",
      "       [ 6.4,  2.8,  5.6,  2.1],\n",
      "       [ 7.2,  3. ,  5.8,  1.6],\n",
      "       [ 7.4,  2.8,  6.1,  1.9],\n",
      "       [ 7.9,  3.8,  6.4,  2. ],\n",
      "       [ 6.4,  2.8,  5.6,  2.2],\n",
      "       [ 6.3,  2.8,  5.1,  1.5],\n",
      "       [ 6.1,  2.6,  5.6,  1.4],\n",
      "       [ 7.7,  3. ,  6.1,  2.3],\n",
      "       [ 6.3,  3.4,  5.6,  2.4],\n",
      "       [ 6.4,  3.1,  5.5,  1.8],\n",
      "       [ 6. ,  3. ,  4.8,  1.8],\n",
      "       [ 6.9,  3.1,  5.4,  2.1],\n",
      "       [ 6.7,  3.1,  5.6,  2.4],\n",
      "       [ 6.9,  3.1,  5.1,  2.3],\n",
      "       [ 5.8,  2.7,  5.1,  1.9],\n",
      "       [ 6.8,  3.2,  5.9,  2.3],\n",
      "       [ 6.7,  3.3,  5.7,  2.5],\n",
      "       [ 6.7,  3. ,  5.2,  2.3],\n",
      "       [ 6.3,  2.5,  5. ,  1.9],\n",
      "       [ 6.5,  3. ,  5.2,  2. ],\n",
      "       [ 6.2,  3.4,  5.4,  2.3],\n",
      "       [ 5.9,  3. ,  5.1,  1.8]]), 'target': array([0, 0, 0, 0, 0, 0, 0, 0, 0, 0, 0, 0, 0, 0, 0, 0, 0, 0, 0, 0, 0, 0, 0,\n",
      "       0, 0, 0, 0, 0, 0, 0, 0, 0, 0, 0, 0, 0, 0, 0, 0, 0, 0, 0, 0, 0, 0, 0,\n",
      "       0, 0, 0, 0, 1, 1, 1, 1, 1, 1, 1, 1, 1, 1, 1, 1, 1, 1, 1, 1, 1, 1, 1,\n",
      "       1, 1, 1, 1, 1, 1, 1, 1, 1, 1, 1, 1, 1, 1, 1, 1, 1, 1, 1, 1, 1, 1, 1,\n",
      "       1, 1, 1, 1, 1, 1, 1, 1, 2, 2, 2, 2, 2, 2, 2, 2, 2, 2, 2, 2, 2, 2, 2,\n",
      "       2, 2, 2, 2, 2, 2, 2, 2, 2, 2, 2, 2, 2, 2, 2, 2, 2, 2, 2, 2, 2, 2, 2,\n",
      "       2, 2, 2, 2, 2, 2, 2, 2, 2, 2, 2, 2]), 'target_names': array(['setosa', 'versicolor', 'virginica'], \n",
      "      dtype='<U10'), 'DESCR': 'Iris Plants Database\\n====================\\n\\nNotes\\n-----\\nData Set Characteristics:\\n    :Number of Instances: 150 (50 in each of three classes)\\n    :Number of Attributes: 4 numeric, predictive attributes and the class\\n    :Attribute Information:\\n        - sepal length in cm\\n        - sepal width in cm\\n        - petal length in cm\\n        - petal width in cm\\n        - class:\\n                - Iris-Setosa\\n                - Iris-Versicolour\\n                - Iris-Virginica\\n    :Summary Statistics:\\n\\n    ============== ==== ==== ======= ===== ====================\\n                    Min  Max   Mean    SD   Class Correlation\\n    ============== ==== ==== ======= ===== ====================\\n    sepal length:   4.3  7.9   5.84   0.83    0.7826\\n    sepal width:    2.0  4.4   3.05   0.43   -0.4194\\n    petal length:   1.0  6.9   3.76   1.76    0.9490  (high!)\\n    petal width:    0.1  2.5   1.20  0.76     0.9565  (high!)\\n    ============== ==== ==== ======= ===== ====================\\n\\n    :Missing Attribute Values: None\\n    :Class Distribution: 33.3% for each of 3 classes.\\n    :Creator: R.A. Fisher\\n    :Donor: Michael Marshall (MARSHALL%PLU@io.arc.nasa.gov)\\n    :Date: July, 1988\\n\\nThis is a copy of UCI ML iris datasets.\\nhttp://archive.ics.uci.edu/ml/datasets/Iris\\n\\nThe famous Iris database, first used by Sir R.A Fisher\\n\\nThis is perhaps the best known database to be found in the\\npattern recognition literature.  Fisher\\'s paper is a classic in the field and\\nis referenced frequently to this day.  (See Duda & Hart, for example.)  The\\ndata set contains 3 classes of 50 instances each, where each class refers to a\\ntype of iris plant.  One class is linearly separable from the other 2; the\\nlatter are NOT linearly separable from each other.\\n\\nReferences\\n----------\\n   - Fisher,R.A. \"The use of multiple measurements in taxonomic problems\"\\n     Annual Eugenics, 7, Part II, 179-188 (1936); also in \"Contributions to\\n     Mathematical Statistics\" (John Wiley, NY, 1950).\\n   - Duda,R.O., & Hart,P.E. (1973) Pattern Classification and Scene Analysis.\\n     (Q327.D83) John Wiley & Sons.  ISBN 0-471-22361-1.  See page 218.\\n   - Dasarathy, B.V. (1980) \"Nosing Around the Neighborhood: A New System\\n     Structure and Classification Rule for Recognition in Partially Exposed\\n     Environments\".  IEEE Transactions on Pattern Analysis and Machine\\n     Intelligence, Vol. PAMI-2, No. 1, 67-71.\\n   - Gates, G.W. (1972) \"The Reduced Nearest Neighbor Rule\".  IEEE Transactions\\n     on Information Theory, May 1972, 431-433.\\n   - See also: 1988 MLC Proceedings, 54-64.  Cheeseman et al\"s AUTOCLASS II\\n     conceptual clustering system finds 3 classes in the data.\\n   - Many, many more ...\\n', 'feature_names': ['sepal length (cm)', 'sepal width (cm)', 'petal length (cm)', 'petal width (cm)']}\n"
     ]
    }
   ],
   "source": [
    "type(iris)\n",
    "print(iris)\n",
    "# 从数据集可以看出来 数据集中分为 data 和 result 两个矩阵，data有四个特征 result有0 1 2 三种结果"
   ]
  },
  {
   "cell_type": "code",
   "execution_count": 104,
   "metadata": {
    "collapsed": false
   },
   "outputs": [
    {
     "name": "stdout",
     "output_type": "stream",
     "text": [
      "[0 0 0 0 0 0 0 0 0 0 0 0 0 0 0 0 0 0 0 0 0 0 0 0 0 0 0 0 0 0 0 0 0 0 0 0 0\n",
      " 0 0 0 0 0 0 0 0 0 0 0 0 0 1 1 1 1 1 1 1 1 1 1 1 1 1 1 1 1 1 1 1 1 1 1 1 1\n",
      " 1 1 1 1 1 1 1 1 1 1 1 1 1 1 1 1 1 1 1 1 1 1 1 1 1 1 2 2 2 2 2 2 2 2 2 2 2\n",
      " 2 2 2 2 2 2 2 2 2 2 2 2 2 2 2 2 2 2 2 2 2 2 2 2 2 2 2 2 2 2 2 2 2 2 2 2 2\n",
      " 2 2]\n"
     ]
    }
   ],
   "source": [
    "x, y = iris.data[:, :], iris.target\n",
    "print(y)"
   ]
  },
  {
   "cell_type": "code",
   "execution_count": 32,
   "metadata": {
    "collapsed": false
   },
   "outputs": [
    {
     "name": "stdout",
     "output_type": "stream",
     "text": [
      "2\n"
     ]
    }
   ],
   "source": [
    "haha,haha1=[1,2]\n",
    "print(haha1)"
   ]
  },
  {
   "cell_type": "code",
   "execution_count": 33,
   "metadata": {
    "collapsed": false
   },
   "outputs": [
    {
     "name": "stdout",
     "output_type": "stream",
     "text": [
      "<class 'numpy.ndarray'>\n"
     ]
    }
   ],
   "source": [
    "x_train,x_test,y_train,y_test=train_test_split(x,y,train_size=0.75,random_state =11)\n",
    "print(type(X_train))"
   ]
  },
  {
   "cell_type": "code",
   "execution_count": 61,
   "metadata": {
    "collapsed": false
   },
   "outputs": [
    {
     "name": "stdout",
     "output_type": "stream",
     "text": [
      "650.9\n"
     ]
    },
    {
     "data": {
      "image/png": "[encoded data removed]",
      "text/plain": [
       "<matplotlib.figure.Figure at 0xbf215f0>"
      ]
     },
     "metadata": {},
     "output_type": "display_data"
    }
   ],
   "source": [
    "import matplotlib.pyplot as plt\n",
    "%matplotlib inline\n",
    "plt.figure(1) # 创建第一个画板（figure）  \n",
    "plt.subplot(211) # 选择第一个画板的第一个子图 \n",
    "x_p1=x_train[:,0:1]\n",
    "x_p2 = range(x_p1.shape[0])\n",
    "plt.plot(x_p2,x_p1)\n",
    "print(x_p1.sum())"
   ]
  },
  {
   "cell_type": "code",
   "execution_count": 79,
   "metadata": {
    "collapsed": false
   },
   "outputs": [
    {
     "name": "stdout",
     "output_type": "stream",
     "text": [
      "[[ -3.87580927e-01   1.00952019e+00  -1.38564093e+00  -1.28875092e+00]\n",
      " [  2.34325432e-01  -8.28955606e-01   8.07474649e-01   5.58380197e-01]\n",
      " [ -1.00948729e+00  -2.43762193e+00  -1.15942435e-01  -2.33247424e-01]\n",
      " [  2.59756959e+00   1.69894862e+00   1.55775103e+00   1.08613194e+00]\n",
      " [ -1.50701237e+00   7.79710718e-01  -1.32792736e+00  -1.15681298e+00]\n",
      " [  1.35375688e+00   9.02822937e-02   6.92047513e-01   4.26442260e-01]\n",
      " [  8.56231790e-01  -1.39527181e-01   1.21146962e+00   1.35000782e+00]\n",
      " [ -8.85106014e-01  -1.28857456e+00  -4.04510274e-01  -1.01309487e-01]\n",
      " [  9.80613062e-01  -3.69336656e-01   5.18906810e-01   1.62566386e-01]\n",
      " [ -1.00948729e+00   3.20091769e-01  -1.44335449e+00  -1.28875092e+00]\n",
      " [  1.97566324e+00  -5.99146131e-01   1.38461033e+00   9.54194007e-01]\n",
      " [ -8.85106014e-01   1.69894862e+00  -1.21250022e+00  -1.28875092e+00]\n",
      " [  1.22937561e+00   3.20091769e-01   1.26918319e+00   1.48194575e+00]\n",
      " [  1.35375688e+00   9.02822937e-02   8.07474649e-01   1.48194575e+00]\n",
      " [  1.09944160e-01  -1.39527181e-01   2.88052539e-01   4.26442260e-01]\n",
      " [ -1.13386856e+00  -1.28857456e+00   4.61193242e-01   6.90318134e-01]\n",
      " [  1.10499433e+00   9.02822937e-02   5.76620378e-01   4.26442260e-01]\n",
      " [ -1.75577492e+00   3.20091769e-01  -1.38564093e+00  -1.28875092e+00]\n",
      " [ -5.11962199e-01   7.79710718e-01  -1.15478665e+00  -1.28875092e+00]\n",
      " [  8.56231790e-01  -5.99146131e-01   5.18906810e-01   4.26442260e-01]\n",
      " [ -8.85106014e-01   1.46913914e+00  -1.27021379e+00  -1.02487504e+00]\n",
      " [ -1.00948729e+00   7.79710718e-01  -1.21250022e+00  -1.02487504e+00]\n",
      " [  3.58706703e-01  -1.05876508e+00   1.09604249e+00   2.94504323e-01]\n",
      " [  8.56231790e-01  -1.39527181e-01   1.03832892e+00   8.22256070e-01]\n",
      " [  6.07469247e-01  -1.28857456e+00   7.49761081e-01   9.54194007e-01]\n",
      " [ -7.60724742e-01   7.79710718e-01  -1.32792736e+00  -1.28875092e+00]\n",
      " [ -1.00948729e+00   1.23932967e+00  -1.32792736e+00  -1.28875092e+00]\n",
      " [ -5.11962199e-01   7.79710718e-01  -1.27021379e+00  -1.02487504e+00]\n",
      " [  3.58706703e-01  -5.99146131e-01   5.76620378e-01   3.06284496e-02]\n",
      " [ -8.85106014e-01   7.79710718e-01  -1.27021379e+00  -1.28875092e+00]\n",
      " [ -2.63199655e-01  -1.39527181e-01   2.30338971e-01   1.62566386e-01]\n",
      " [  6.07469247e-01  -8.28955606e-01   6.92047513e-01   8.22256070e-01]\n",
      " [  1.60251942e+00  -1.39527181e-01   1.26918319e+00   1.21806988e+00]\n",
      " [ -3.87580927e-01  -1.05876508e+00   4.03479675e-01   3.06284496e-02]\n",
      " [ -1.00948729e+00  -1.74819351e+00  -2.31369571e-01  -2.33247424e-01]\n",
      " [  6.07469247e-01   7.79710718e-01   1.09604249e+00   1.61388369e+00]\n",
      " [ -1.44371119e-02  -8.28955606e-01   8.07474649e-01   9.54194007e-01]\n",
      " [ -3.87580927e-01   2.61818652e+00  -1.32792736e+00  -1.28875092e+00]\n",
      " [ -2.63199655e-01  -8.28955606e-01   2.88052539e-01   1.62566386e-01]\n",
      " [  4.83087975e-01  -3.69336656e-01   3.45766107e-01   1.62566386e-01]\n",
      " [  1.10499433e+00  -1.28857456e+00   1.21146962e+00   8.22256070e-01]\n",
      " [  3.58706703e-01  -1.39527181e-01   6.92047513e-01   8.22256070e-01]\n",
      " [  1.10499433e+00   9.02822937e-02   1.09604249e+00   1.61388369e+00]\n",
      " [ -1.50701237e+00   3.20091769e-01  -1.32792736e+00  -1.28875092e+00]\n",
      " [  2.34880705e+00   1.69894862e+00   1.73089173e+00   1.35000782e+00]\n",
      " [ -6.36343471e-01   1.46913914e+00  -1.27021379e+00  -1.28875092e+00]\n",
      " [ -1.38818384e-01   1.69894862e+00  -1.15478665e+00  -1.15681298e+00]\n",
      " [ -1.00948729e+00   1.00952019e+00  -1.21250022e+00  -7.60999171e-01]\n",
      " [ -8.85106014e-01   1.00952019e+00  -1.32792736e+00  -1.15681298e+00]\n",
      " [  6.07469247e-01   5.49901243e-01   1.32689676e+00   1.74582163e+00]\n",
      " [ -1.75577492e+00  -1.39527181e-01  -1.38564093e+00  -1.28875092e+00]\n",
      " [ -1.00948729e+00  -1.39527181e-01  -1.21250022e+00  -1.28875092e+00]\n",
      " [ -8.85106014e-01   1.69894862e+00  -1.27021379e+00  -1.15681298e+00]\n",
      " [  2.34325432e-01  -3.69336656e-01   4.61193242e-01   4.26442260e-01]\n",
      " [ -7.60724742e-01   2.38837704e+00  -1.27021379e+00  -1.42068886e+00]\n",
      " [  6.07469247e-01  -1.28857456e+00   6.92047513e-01   4.26442260e-01]\n",
      " [  4.83087975e-01  -1.97800298e+00   4.61193242e-01   4.26442260e-01]\n",
      " [  7.31850518e-01   9.02822937e-02   1.03832892e+00   8.22256070e-01]\n",
      " [  6.07469247e-01  -1.74819351e+00   4.03479675e-01   1.62566386e-01]\n",
      " [ -1.75577492e+00  -3.69336656e-01  -1.32792736e+00  -1.28875092e+00]\n",
      " [ -1.50701237e+00   9.02822937e-02  -1.27021379e+00  -1.28875092e+00]\n",
      " [ -1.13386856e+00  -1.39527181e-01  -1.32792736e+00  -1.28875092e+00]\n",
      " [ -7.60724742e-01  -8.28955606e-01   1.14911836e-01   2.94504323e-01]\n",
      " [ -1.38818384e-01  -5.99146131e-01   2.30338971e-01   1.62566386e-01]\n",
      " [  1.47813815e+00   3.20091769e-01   5.76620378e-01   2.94504323e-01]\n",
      " [  1.10499433e+00   5.49901243e-01   1.15375606e+00   1.74582163e+00]\n",
      " [ -3.87580927e-01  -1.74819351e+00   1.72625404e-01   1.62566386e-01]\n",
      " [ -5.11962199e-01   1.92875809e+00  -1.15478665e+00  -1.02487504e+00]\n",
      " [ -1.38818384e-01  -1.39527181e-01   2.88052539e-01   3.06284496e-02]\n",
      " [  7.31850518e-01   3.20091769e-01   9.22901784e-01   1.48194575e+00]\n",
      " [ -1.00948729e+00   1.00952019e+00  -1.38564093e+00  -1.15681298e+00]\n",
      " [  4.83087975e-01  -5.99146131e-01   6.34333946e-01   8.22256070e-01]\n",
      " [  1.10499433e+00   5.49901243e-01   1.15375606e+00   1.21806988e+00]\n",
      " [ -1.38818384e-01  -5.99146131e-01   4.61193242e-01   1.62566386e-01]\n",
      " [ -1.00948729e+00   7.79710718e-01  -1.27021379e+00  -1.28875092e+00]\n",
      " [ -1.44371119e-02   2.15856757e+00  -1.44335449e+00  -1.28875092e+00]\n",
      " [ -8.85106014e-01   1.69894862e+00  -1.03935952e+00  -1.02487504e+00]\n",
      " [ -2.63199655e-01  -5.99146131e-01   6.92047513e-01   1.08613194e+00]\n",
      " [ -1.13386856e+00  -1.51838403e+00  -2.31369571e-01  -2.33247424e-01]\n",
      " [ -5.11962199e-01   1.46913914e+00  -1.27021379e+00  -1.28875092e+00]\n",
      " [  1.85128196e+00  -3.69336656e-01   1.50003746e+00   8.22256070e-01]\n",
      " [ -3.87580927e-01  -1.28857456e+00   1.72625404e-01   1.62566386e-01]\n",
      " [  2.34880705e+00  -1.39527181e-01   1.38461033e+00   1.48194575e+00]\n",
      " [ -7.60724742e-01   1.00952019e+00  -1.27021379e+00  -1.28875092e+00]\n",
      " [ -8.85106014e-01   5.49901243e-01  -1.15478665e+00  -8.92937108e-01]\n",
      " [ -1.38818384e-01  -3.69336656e-01   2.88052539e-01   1.62566386e-01]\n",
      " [ -1.38818384e-01  -1.05876508e+00  -1.15942435e-01  -2.33247424e-01]\n",
      " [  2.34325432e-01  -1.39527181e-01   6.34333946e-01   8.22256070e-01]\n",
      " [ -2.63199655e-01  -3.69336656e-01  -5.82288675e-02   1.62566386e-01]\n",
      " [  7.31850518e-01  -5.99146131e-01   1.09604249e+00   1.21806988e+00]\n",
      " [ -1.44371119e-02  -5.99146131e-01   8.07474649e-01   1.61388369e+00]\n",
      " [  1.09944160e-01   3.20091769e-01   6.34333946e-01   8.22256070e-01]\n",
      " [ -1.44371119e-02  -8.28955606e-01   2.30338971e-01  -2.33247424e-01]\n",
      " [  4.83087975e-01   7.79710718e-01   9.80615352e-01   1.48194575e+00]\n",
      " [  8.56231790e-01  -1.39527181e-01   8.65188217e-01   1.08613194e+00]\n",
      " [ -1.13386856e+00   9.02822937e-02  -1.27021379e+00  -1.42068886e+00]\n",
      " [  7.31850518e-01  -3.69336656e-01   3.45766107e-01   1.62566386e-01]\n",
      " [  1.72690069e+00  -1.39527181e-01   1.21146962e+00   5.58380197e-01]\n",
      " [ -1.13386856e+00   9.02822937e-02  -1.27021379e+00  -1.42068886e+00]\n",
      " [  7.31850518e-01  -5.99146131e-01   1.09604249e+00   1.35000782e+00]\n",
      " [  1.72690069e+00   3.20091769e-01   1.32689676e+00   8.22256070e-01]\n",
      " [ -1.25824983e+00  -1.39527181e-01  -1.32792736e+00  -1.15681298e+00]\n",
      " [ -1.44371119e-02  -1.05876508e+00   1.72625404e-01   3.06284496e-02]\n",
      " [  1.72690069e+00   1.23932967e+00   1.38461033e+00   1.74582163e+00]\n",
      " [ -1.25824983e+00   7.79710718e-01  -1.03935952e+00  -1.28875092e+00]\n",
      " [ -1.44371119e-02  -8.28955606e-01   1.14911836e-01   3.06284496e-02]\n",
      " [  3.58706703e-01  -5.99146131e-01   1.72625404e-01   1.62566386e-01]\n",
      " [  1.22937561e+00  -5.99146131e-01   6.34333946e-01   2.94504323e-01]\n",
      " [ -1.88015619e+00  -1.39527181e-01  -1.50106806e+00  -1.42068886e+00]\n",
      " [ -3.87580927e-01  -1.51838403e+00  -5.15299712e-04  -2.33247424e-01]\n",
      " [  3.58706703e-01  -1.39527181e-01   5.18906810e-01   2.94504323e-01]\n",
      " [ -3.87580927e-01  -1.51838403e+00   5.71982680e-02  -1.01309487e-01]]\n"
     ]
    }
   ],
   "source": [
    "#c = np.concatenate((X_train, b), axis=0)\n",
    "scaler = preprocessing.StandardScaler().fit(x_train)\n",
    "X_train = scaler.transform(x_train)\n",
    "print(X_train)"
   ]
  },
  {
   "cell_type": "code",
   "execution_count": 80,
   "metadata": {
    "collapsed": false
   },
   "outputs": [
    {
     "name": "stdout",
     "output_type": "stream",
     "text": [
      "5.42677014437e-13\n"
     ]
    },
    {
     "data": {
      "image/png": "[encoded data removed]",
      "text/plain": [
       "<matplotlib.figure.Figure at 0x6477510>"
      ]
     },
     "metadata": {},
     "output_type": "display_data"
    }
   ],
   "source": [
    "import matplotlib.pyplot as plt\n",
    "%matplotlib inline\n",
    "plt.figure(1) # 创建第一个画板（figure）  \n",
    "plt.subplot(212) # 选择第一个画板的第一个子图 \n",
    "x_p1=X_train[:,0:1]\n",
    "x_p2 = range(x_p1.shape[0])\n",
    "plt.plot(x_p2,x_p1)\n",
    "print(x_p1.sum())"
   ]
  },
  {
   "cell_type": "code",
   "execution_count": 97,
   "metadata": {
    "collapsed": false
   },
   "outputs": [],
   "source": [
    "X_test = scaler.transform(x_test)"
   ]
  },
  {
   "cell_type": "code",
   "execution_count": 98,
   "metadata": {
    "collapsed": false
   },
   "outputs": [],
   "source": [
    "knn = neighbors.KNeighborsClassifier(n_neighbors=4)"
   ]
  },
  {
   "cell_type": "code",
   "execution_count": 99,
   "metadata": {
    "collapsed": false
   },
   "outputs": [
    {
     "data": {
      "text/plain": [
       "KNeighborsClassifier(algorithm='auto', leaf_size=30, metric='minkowski',\n",
       "           metric_params=None, n_jobs=1, n_neighbors=4, p=2,\n",
       "           weights='uniform')"
      ]
     },
     "execution_count": 99,
     "metadata": {},
     "output_type": "execute_result"
    }
   ],
   "source": [
    "knn.fit(X_train, y_train)"
   ]
  },
  {
   "cell_type": "code",
   "execution_count": 100,
   "metadata": {
    "collapsed": false
   },
   "outputs": [
    {
     "name": "stdout",
     "output_type": "stream",
     "text": [
      "5.42677014437e-13\n"
     ]
    }
   ],
   "source": [
    "print(X_train[:,0].sum())\n"
   ]
  },
  {
   "cell_type": "code",
   "execution_count": 101,
   "metadata": {
    "collapsed": false,
    "scrolled": false
   },
   "outputs": [
    {
     "name": "stdout",
     "output_type": "stream",
     "text": [
      "[2 2 1 1 2 0 1 0 0 1 1 1 1 2 2 0 2 1 2 2 1 0 0 1 0 0 1 1 0 1 0 2 2 0 0 2 2\n",
      " 1]\n"
     ]
    }
   ],
   "source": [
    "y_pred = knn.predict(X_test)\n",
    "print(y_pred)"
   ]
  },
  {
   "cell_type": "code",
   "execution_count": 102,
   "metadata": {
    "collapsed": false,
    "scrolled": true
   },
   "outputs": [
    {
     "data": {
      "text/plain": [
       "0.92105263157894735"
      ]
     },
     "execution_count": 102,
     "metadata": {},
     "output_type": "execute_result"
    }
   ],
   "source": [
    "accuracy_score(y_test, y_pred)"
   ]
  },
  {
   "cell_type": "code",
   "execution_count": 43,
   "metadata": {
    "collapsed": false
   },
   "outputs": [
    {
     "name": "stdout",
     "output_type": "stream",
     "text": [
      "[[1, 2, 3], [2, 4, 5], [3]]\n"
     ]
    }
   ],
   "source": [
    "a=[[1,2,3],[2,4,5]]\n",
    "b=[[3]]\n",
    "c=a+b\n",
    "print(c)"
   ]
  }
 ],
 "metadata": {
  "kernelspec": {
   "display_name": "Python 3",
   "language": "python",
   "name": "python3"
  },
  "language_info": {
   "codemirror_mode": {
    "name": "ipython",
    "version": 3
   },
   "file_extension": ".py",
   "mimetype": "text/x-python",
   "name": "python",
   "nbconvert_exporter": "python",
   "pygments_lexer": "ipython3",
   "version": "3.6.0"
  }
 },
 "nbformat": 4,
 "nbformat_minor": 2
}
